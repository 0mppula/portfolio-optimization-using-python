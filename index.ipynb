{
 "cells": [
  {
   "cell_type": "markdown",
   "metadata": {},
   "source": [
    "## Portfolio Optimization using Python\n",
    "\n",
    "#### References\n",
    "\n",
    "Website: https://ryanoconnellfinance.com/python-portfolio-optimization/\n"
   ]
  },
  {
   "cell_type": "markdown",
   "metadata": {},
   "source": [
    "### Imports\n"
   ]
  },
  {
   "cell_type": "code",
   "execution_count": 234,
   "metadata": {},
   "outputs": [],
   "source": [
    "import os\n",
    "from fredapi import Fred\n",
    "import datetime\n",
    "from datetime import datetime, timedelta\n",
    "import pandas as pd\n",
    "import yfinance as yf\n",
    "import numpy as np\n",
    "from scipy.optimize import minimize\n",
    "from dotenv import load_dotenv\n",
    "import matplotlib.pyplot as plt"
   ]
  },
  {
   "cell_type": "markdown",
   "metadata": {},
   "source": [
    "### Section 1: Define Tickers and Time Range\n",
    "\n",
    "First, we define a list of tickers for the assets we want to include in the portfolio. In this example, we use five ETFs representing various asset classes: SPY, BND, GLD, QQQ, and VTI. We then set the start and end dates for our analysis. We use a five-year historical time range for our calculations.\n"
   ]
  },
  {
   "cell_type": "code",
   "execution_count": 235,
   "metadata": {},
   "outputs": [],
   "source": [
    "tickers = ['SPY', 'BND', 'GLD', 'QQQ', 'VTI']\n",
    "end_date = datetime.today()\n",
    "start_date = end_date - timedelta(days=15*365)"
   ]
  },
  {
   "cell_type": "markdown",
   "metadata": {},
   "source": [
    "### Section 2: Download Adjusted Close Prices\n",
    "\n",
    "Next, we create an empty DataFrame to store the adjusted close prices of each asset. We use the yfinance library to download the data from Yahoo Finance.\n"
   ]
  },
  {
   "cell_type": "code",
   "execution_count": 236,
   "metadata": {},
   "outputs": [
    {
     "name": "stderr",
     "output_type": "stream",
     "text": [
      "[*********************100%***********************]  1 of 1 completed\n",
      "[*********************100%***********************]  1 of 1 completed\n",
      "[*********************100%***********************]  1 of 1 completed\n",
      "[*********************100%***********************]  1 of 1 completed\n",
      "[*********************100%***********************]  1 of 1 completed\n"
     ]
    }
   ],
   "source": [
    "adj_close_df = pd.DataFrame()\n",
    "for ticker in tickers:\n",
    "    data = yf.download(ticker, start=start_date, end=end_date)\n",
    "    adj_close_df[ticker] = data['Adj Close']"
   ]
  },
  {
   "cell_type": "markdown",
   "metadata": {},
   "source": [
    "#### Display the DataFrame\n"
   ]
  },
  {
   "cell_type": "code",
   "execution_count": 237,
   "metadata": {},
   "outputs": [
    {
     "name": "stdout",
     "output_type": "stream",
     "text": [
      "                   SPY        BND         GLD         QQQ         VTI\n",
      "Date                                                                 \n",
      "2009-10-12   81.573570  51.633038  103.559998   37.181267   41.548485\n",
      "2009-10-13   81.406929  51.672146  104.260002   37.190002   41.434357\n",
      "2009-10-14   82.808395  51.450729  104.180000   37.696571   42.172478\n",
      "2009-10-15   83.111435  51.463749  102.860001   37.609245   42.317062\n",
      "2009-10-16   82.490242  51.483261  103.180000   37.364685   42.005077\n",
      "...                ...        ...         ...         ...         ...\n",
      "2024-10-01  568.619995  75.110001  245.610001  481.269989  280.579987\n",
      "2024-10-02  568.859985  74.970001  245.660004  481.950012  280.640015\n",
      "2024-10-03  567.820007  74.639999  245.490005  481.589996  280.040009\n",
      "2024-10-04  572.979980  74.150002  245.000000  487.320007  282.750000\n",
      "2024-10-07  571.520020  73.969902  244.770004  485.589996  281.882690\n",
      "\n",
      "[3772 rows x 5 columns]\n"
     ]
    }
   ],
   "source": [
    "print(adj_close_df)"
   ]
  },
  {
   "cell_type": "markdown",
   "metadata": {},
   "source": [
    "### Section 3: Calculate Lognormal Returns\n",
    "\n",
    "We calculate the lognormal returns for each asset and drop any missing values.\n"
   ]
  },
  {
   "cell_type": "code",
   "execution_count": 238,
   "metadata": {},
   "outputs": [],
   "source": [
    "log_returns = np.log(adj_close_df / adj_close_df.shift(1))"
   ]
  },
  {
   "cell_type": "markdown",
   "metadata": {},
   "source": [
    "#### Drop any missing values\n"
   ]
  },
  {
   "cell_type": "code",
   "execution_count": 239,
   "metadata": {},
   "outputs": [],
   "source": [
    "log_returns = log_returns.dropna()"
   ]
  },
  {
   "cell_type": "markdown",
   "metadata": {},
   "source": [
    "### Section 4: Calculate Covariance Matrix\n",
    "\n",
    "We compute the covariance matrix using the annualized log returns.\n"
   ]
  },
  {
   "cell_type": "code",
   "execution_count": 240,
   "metadata": {},
   "outputs": [],
   "source": [
    "cov_matrix = log_returns.cov() * 252"
   ]
  },
  {
   "cell_type": "markdown",
   "metadata": {},
   "source": [
    "#### Display the covariance matrix\n"
   ]
  },
  {
   "cell_type": "code",
   "execution_count": 241,
   "metadata": {},
   "outputs": [
    {
     "name": "stdout",
     "output_type": "stream",
     "text": [
      "          SPY       BND       GLD       QQQ       VTI\n",
      "SPY  0.029385 -0.000003  0.001617  0.032568  0.029996\n",
      "BND -0.000003  0.002326  0.002238  0.000212  0.000045\n",
      "GLD  0.001617  0.002238  0.024351  0.001899  0.001765\n",
      "QQQ  0.032568  0.000212  0.001899  0.041885  0.033262\n",
      "VTI  0.029996  0.000045  0.001765  0.033262  0.030867\n"
     ]
    }
   ],
   "source": [
    "print(cov_matrix)"
   ]
  },
  {
   "cell_type": "markdown",
   "metadata": {},
   "source": [
    "### Section 5: Define Portfolio Performance Metrics\n",
    "\n",
    "We define functions to calculate the portfolio standard deviation, expected return, and Sharpe ratio.\n"
   ]
  },
  {
   "cell_type": "markdown",
   "metadata": {},
   "source": [
    "#### Calculate the standard deviation\n"
   ]
  },
  {
   "cell_type": "code",
   "execution_count": 242,
   "metadata": {},
   "outputs": [],
   "source": [
    "def standard_deviation(weights, cov_matrix):\n",
    "    variance = weights.T @ cov_matrix @ weights\n",
    "    return np.sqrt(variance)"
   ]
  },
  {
   "cell_type": "markdown",
   "metadata": {},
   "source": [
    "#### Calculate the expected return\n",
    "\n",
    "\\*Key assumption expected returns are based on historical returns\n"
   ]
  },
  {
   "cell_type": "code",
   "execution_count": 243,
   "metadata": {},
   "outputs": [],
   "source": [
    "def expected_return(weights, log_returns):\n",
    "    return np.sum(log_returns.mean()*weights)*252"
   ]
  },
  {
   "cell_type": "markdown",
   "metadata": {},
   "source": [
    "#### Calculate the Sharpe Ratio\n"
   ]
  },
  {
   "cell_type": "code",
   "execution_count": 244,
   "metadata": {},
   "outputs": [],
   "source": [
    "def sharpe_ratio(weights, log_returns, cov_matrix, risk_free_rate):\n",
    "    return (expected_return(weights, log_returns) - risk_free_rate) / standard_deviation(weights, cov_matrix)"
   ]
  },
  {
   "cell_type": "markdown",
   "metadata": {},
   "source": [
    "### Section 6: Portfolio Optimization\n",
    "\n",
    "We set the risk-free rate, define a function to minimize the negative Sharpe ratio, and set constraints and bounds for the optimization process.\n"
   ]
  },
  {
   "cell_type": "markdown",
   "metadata": {},
   "source": [
    "#### Set risk-free rate\n"
   ]
  },
  {
   "cell_type": "code",
   "execution_count": 245,
   "metadata": {},
   "outputs": [
    {
     "name": "stdout",
     "output_type": "stream",
     "text": [
      "0.0385\n"
     ]
    }
   ],
   "source": [
    "load_dotenv()\n",
    "api_key = os.getenv('FRED_API_KEY')\n",
    "\n",
    "\n",
    "fred = Fred(api_key='660c16cacffd83ac379574f4c42bf33e')\n",
    "\n",
    "ten_year_treasury_rate = fred.get_series_latest_release('DGS10')/100\n",
    "risk_free_rate = ten_year_treasury_rate.iloc[-1]\n",
    "\n",
    "\n",
    "print(risk_free_rate)"
   ]
  },
  {
   "cell_type": "markdown",
   "metadata": {},
   "source": [
    "#### Set the constraints and bounds\n",
    "\n",
    "Constraints are conditions that must be met by the solution during the optimization process. In this case, the constraint is that the sum of all portfolio weights must be equal to 1. The constraints variable is a dictionary with two keys: 'type' and 'fun'. 'type' is set to 'eq' which means 'equality constraint', and 'fun' is assigned the function check_sum, which checks if the sum of the portfolio equals 1.\n"
   ]
  },
  {
   "cell_type": "code",
   "execution_count": 246,
   "metadata": {},
   "outputs": [],
   "source": [
    "def neg_sharpe_ratio(weights, log_returns, cov_matrix, risk_free_rate):\n",
    "    return -sharpe_ratio(weights, log_returns, cov_matrix, risk_free_rate)\n",
    "\n",
    "\n",
    "constraints = ({'type': 'eq', 'fun': lambda x: np.sum(x) - 1})\n",
    "bounds = [(0.1, 0.6) for _ in range(len(tickers))]"
   ]
  },
  {
   "cell_type": "markdown",
   "metadata": {},
   "source": [
    "#### Set the initial wights\n"
   ]
  },
  {
   "cell_type": "code",
   "execution_count": 247,
   "metadata": {},
   "outputs": [
    {
     "name": "stdout",
     "output_type": "stream",
     "text": [
      "[0.2 0.2 0.2 0.2 0.2]\n"
     ]
    }
   ],
   "source": [
    "initial_weights = np.array([1/len(tickers)]*len(tickers))\n",
    "\n",
    "print(initial_weights)"
   ]
  },
  {
   "cell_type": "markdown",
   "metadata": {},
   "source": [
    "#### Optimize the weights to maximize the Sharpe Ratio\n",
    "\n",
    "'SLSQP' stands for sequential least squares quadratic programming, which is a numerical optimization technique suitable for solving nonlinear optimization problems with constraints.\n"
   ]
  },
  {
   "cell_type": "code",
   "execution_count": 248,
   "metadata": {},
   "outputs": [],
   "source": [
    "optimized_results = minimize(neg_sharpe_ratio, initial_weights, args=(\n",
    "    log_returns, cov_matrix, risk_free_rate), method='SLSQP', constraints=constraints, bounds=bounds)"
   ]
  },
  {
   "cell_type": "markdown",
   "metadata": {},
   "source": [
    "#### Set the optimal weights\n"
   ]
  },
  {
   "cell_type": "code",
   "execution_count": 249,
   "metadata": {},
   "outputs": [
    {
     "name": "stdout",
     "output_type": "stream",
     "text": [
      "[0.1 0.1 0.1 0.6 0.1]\n"
     ]
    }
   ],
   "source": [
    "optimal_weights = optimized_results.x\n",
    "\n",
    "print(optimal_weights)"
   ]
  },
  {
   "cell_type": "markdown",
   "metadata": {},
   "source": [
    "### Section 7: Analyze the Optimal Portfolio\n",
    "\n",
    "We obtain the optimal weights and calculate the expected annual return, expected volatility, and Sharpe ratio for the optimal portfolio.\n"
   ]
  },
  {
   "cell_type": "code",
   "execution_count": 250,
   "metadata": {},
   "outputs": [
    {
     "name": "stdout",
     "output_type": "stream",
     "text": [
      "Optimal Weights:\n",
      "SPY: 0.1000\n",
      "BND: 0.1000\n",
      "GLD: 0.1000\n",
      "QQQ: 0.6000\n",
      "VTI: 0.1000\n",
      "Expected Annual Return: 0.1370\n",
      "Expected Volatility: 0.1575\n",
      "Sharpe Ratio: 0.6252\n"
     ]
    }
   ],
   "source": [
    "optimal_weights = optimized_results.x\n",
    "\n",
    "print(\"Optimal Weights:\")\n",
    "for ticker, weight in zip(tickers, optimal_weights):\n",
    "    print(f\"{ticker}: {weight:.4f}\")\n",
    "\n",
    "optimal_portfolio_return = expected_return(optimal_weights, log_returns)\n",
    "optimal_portfolio_volatility = standard_deviation(optimal_weights, cov_matrix)\n",
    "optimal_sharpe_ratio = sharpe_ratio(optimal_weights, log_returns, cov_matrix, risk_free_rate)\n",
    "\n",
    "print(f\"Expected Annual Return: {optimal_portfolio_return:.4f}\")\n",
    "print(f\"Expected Volatility: {optimal_portfolio_volatility:.4f}\")\n",
    "print(f\"Sharpe Ratio: {optimal_sharpe_ratio:.4f}\")"
   ]
  },
  {
   "cell_type": "markdown",
   "metadata": {},
   "source": [
    "#### Display the final portfolio in a plot\n",
    "\n",
    "We create a bar chart to visualize the optimal weights of the assets in the portfolio.\n"
   ]
  },
  {
   "cell_type": "code",
   "execution_count": 251,
   "metadata": {},
   "outputs": [
    {
     "data": {
      "image/png": "[encoded data removed]",
      "text/plain": [
       "<Figure size 500x300 with 1 Axes>"
      ]
     },
     "metadata": {},
     "output_type": "display_data"
    }
   ],
   "source": [
    "plt.figure(figsize=(5, 3))\n",
    "plt.bar(tickers, optimal_weights)\n",
    "\n",
    "plt.xlabel('Assets')\n",
    "plt.ylabel('Optimal Weights')\n",
    "plt.title('Optimal Portfolio Weights')\n",
    "\n",
    "plt.show()"
   ]
  },
  {
   "cell_type": "markdown",
   "metadata": {},
   "source": [
    "### Conclusion\n",
    "\n",
    "This Python script demonstrates how to use Modern Portfolio Theory to optimize a portfolio of stocks. By calculating the optimal weights for each asset, we aim to maximize the Sharpe ratio, providing the highest possible risk-adjusted return. This approach can help investors create a well-diversified portfolio and make informed decisions when allocating their investments.\n"
   ]
  }
 ],
 "metadata": {
  "kernelspec": {
   "display_name": "Python 3",
   "language": "python",
   "name": "python3"
  },
  "language_info": {
   "codemirror_mode": {
    "name": "ipython",
    "version": 3
   },
   "file_extension": ".py",
   "mimetype": "text/x-python",
   "name": "python",
   "nbconvert_exporter": "python",
   "pygments_lexer": "ipython3",
   "version": "3.11.2"
  }
 },
 "nbformat": 4,
 "nbformat_minor": 2
}
